{
 "cells": [
  {
   "cell_type": "code",
   "execution_count": 1,
   "metadata": {},
   "outputs": [],
   "source": [
    "import numpy as np\n",
    "import pandas as pd\n",
    "import glob\n",
    "import openpyxl"
   ]
  },
  {
   "cell_type": "code",
   "execution_count": 2,
   "metadata": {},
   "outputs": [],
   "source": [
    "file_path = 'data/reports'\n",
    "files = glob.glob('*.xlsx')\n",
    "wynikowy = pd.DataFrame()\n",
    "wynikowy.to_excel('output.xlsx')\n",
    "for file in files:\n",
    "    name = file[:file.index('.')]\n",
    "    dataframe = pd.read_excel(file)\n",
    "    wynikowy = wynikowy.append(dataframe[['Słowo kluczowe', 'Śr. mies. liczba wyszukiwań']])\n",
    "    with pd.ExcelWriter('output.xlsx', engine='openpyxl', mode='a') as writer:\n",
    "        dataframe.to_excel(writer, sheet_name=name)\n",
    "        \n",
    "wynik = wynikowy.drop_duplicates(ignore_index=True)     \n",
    "            \n",
    "with pd.ExcelWriter('output.xlsx', engine='openpyxl', mode='a') as writer:\n",
    "    wynik.to_excel(writer, sheet_name='zbiorczy')"
   ]
  },
  {
   "cell_type": "code",
   "execution_count": null,
   "metadata": {},
   "outputs": [],
   "source": []
  }
 ],
 "metadata": {
  "kernelspec": {
   "display_name": "Python 3",
   "language": "python",
   "name": "python3"
  },
  "language_info": {
   "codemirror_mode": {
    "name": "ipython",
    "version": 3
   },
   "file_extension": ".py",
   "mimetype": "text/x-python",
   "name": "python",
   "nbconvert_exporter": "python",
   "pygments_lexer": "ipython3",
   "version": "3.7.6"
  }
 },
 "nbformat": 4,
 "nbformat_minor": 4
}
